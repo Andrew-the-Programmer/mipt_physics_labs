{
 "cells": [
  {
   "cell_type": "code",
   "execution_count": 1,
   "metadata": {},
   "outputs": [
    {
     "name": "stderr",
     "output_type": "stream",
     "text": [
      "/usr/lib/python3/dist-packages/scipy/__init__.py:146: UserWarning: A NumPy version >=1.17.3 and <1.25.0 is required for this version of SciPy (detected version 1.26.2\n",
      "  warnings.warn(f\"A NumPy version >={np_minversion} and <{np_maxversion}\"\n"
     ]
    }
   ],
   "source": [
    "import sympy as sp\n",
    "import scipy.constants as sc\n",
    "from typing import Any\n",
    "\n",
    "from physics import *"
   ]
  },
  {
   "cell_type": "code",
   "execution_count": 2,
   "metadata": {},
   "outputs": [],
   "source": [
    "sc.find('gas')\n",
    "R = sc.physical_constants['molar gas constant']\n"
   ]
  },
  {
   "cell_type": "code",
   "execution_count": 3,
   "metadata": {},
   "outputs": [],
   "source": [
    "# PHYSICAL CONSTANTS\n",
    "\n",
    "dencity: dict[str, PQ] = dict(\n",
    "    oil=PQ(value=0.9, err=0.1, unit='g/cm^3', symbol='rho_oil'),\n",
    "    water=PQ(value=1, err=0.1, unit='g/cm^3', symbol='rho_water')\n",
    ")\n",
    "for d in dencity.values():\n",
    "    d.convert('kg/m^3')\n",
    "\n",
    "g0 = PQ(value=9.8, err=0, unit='m/s^2', symbol='g_0')\n"
   ]
  },
  {
   "cell_type": "code",
   "execution_count": 4,
   "metadata": {},
   "outputs": [],
   "source": [
    "equations: dict[str, Any] = dict()"
   ]
  },
  {
   "cell_type": "code",
   "execution_count": 5,
   "metadata": {},
   "outputs": [],
   "source": [
    "P, sigma, r = sp.symbols('P sigma r')"
   ]
  },
  {
   "cell_type": "code",
   "execution_count": 6,
   "metadata": {},
   "outputs": [],
   "source": [
    "def PressureK(value):\n",
    "    err = 0.5\n",
    "    return VNE(value=value, err=err)"
   ]
  },
  {
   "cell_type": "code",
   "execution_count": 14,
   "metadata": {},
   "outputs": [],
   "source": [
    "# pressure per mark\n",
    "k = PQ(value=9.80665, err=1e-6, unit=\"Pa\")\n",
    "\n",
    "P_max_k = PressureK(46)\n",
    "P_min_k = PressureK(39)\n",
    "\n",
    "eq_P_1 = sp.sympify(\"j * k\")\n",
    "\n",
    "def func_P(j: float):\n",
    "    return calculate(eq_P_1, subs=dict(j=j, k=k))"
   ]
  },
  {
   "cell_type": "code",
   "execution_count": 15,
   "metadata": {},
   "outputs": [
    {
     "data": {
      "text/plain": [
       "0.0000975380725457149 +- 9.94611539574828E-12"
      ]
     },
     "execution_count": 15,
     "metadata": {},
     "output_type": "execute_result"
    }
   ],
   "source": [
    "P_1_k_max = 46\n",
    "P_1_k_min = 39\n",
    "\n",
    "P, sigma, r = sp.symbols('P sigma r')\n",
    "\n",
    "equations['давление_Лапласа'] = sp.Eq(P, 2 * sigma / r)\n",
    "\n",
    "поверхностное_натяжение: dict[str, PQ] = dict()\n",
    "поверхностное_натяжение['спирт'] = PQ(value=0.022, unit='N/m')\n",
    "\n",
    "# s = sp.solve(equations['давление_Лапласа'], P)\n",
    "радиус_иглы = calculate(sp.solve(equations['давление_Лапласа'], r)[0], subs={P: func_P(P_1_k_max), sigma: поверхностное_натяжение['спирт']})\n",
    "# радиус_иглы = calculate(sp.solve(equations['давление_Лапласа'], r)[0], subs={P: func_P(), sigma: 1})\n",
    "радиус_иглы"
   ]
  },
  {
   "cell_type": "code",
   "execution_count": 9,
   "metadata": {},
   "outputs": [],
   "source": [
    "r = PQ(value=0.42, unit='mm')\n",
    "h1 = 2.62\n",
    "Pw_max_k = 126\n",
    "h2 = 0.7\n",
    "Pw2_max_k = 218"
   ]
  }
 ],
 "metadata": {
  "kernelspec": {
   "display_name": "Python 3",
   "language": "python",
   "name": "python3"
  },
  "language_info": {
   "codemirror_mode": {
    "name": "ipython",
    "version": 3
   },
   "file_extension": ".py",
   "mimetype": "text/x-python",
   "name": "python",
   "nbconvert_exporter": "python",
   "pygments_lexer": "ipython3",
   "version": "3.10.12"
  }
 },
 "nbformat": 4,
 "nbformat_minor": 2
}
