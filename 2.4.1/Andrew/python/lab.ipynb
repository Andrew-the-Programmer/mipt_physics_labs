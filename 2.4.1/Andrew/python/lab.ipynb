{
 "cells": [
  {
   "cell_type": "code",
   "execution_count": 1,
   "metadata": {},
   "outputs": [
    {
     "name": "stderr",
     "output_type": "stream",
     "text": [
      "/usr/lib/python3/dist-packages/scipy/__init__.py:146: UserWarning: A NumPy version >=1.17.3 and <1.25.0 is required for this version of SciPy (detected version 1.26.2\n",
      "  warnings.warn(f\"A NumPy version >={np_minversion} and <{np_maxversion}\"\n"
     ]
    }
   ],
   "source": [
    "from physics.my_physics import *"
   ]
  },
  {
   "cell_type": "code",
   "execution_count": 2,
   "metadata": {},
   "outputs": [],
   "source": [
    "# PHYSICAL CONSTANTS\n",
    "\n",
    "dencity: dict[str, Qe] = dict(\n",
    "    oil=Qe(value_v=0.9, err_v=0.1, unit='g/cm^3', symbol='rho_oil'),\n",
    "    water=Qe(value_v=1, err_v=0.1, unit='g/cm^3', symbol='rho_water')\n",
    ")\n",
    "for d in dencity.values():\n",
    "    d.convert('kg/m^3')\n",
    "\n",
    "g0 = Qe(value_v=9.8, err_v=0, unit='m/s^2', symbol='g_0')"
   ]
  },
  {
   "cell_type": "code",
   "execution_count": null,
   "metadata": {},
   "outputs": [],
   "source": []
  }
 ],
 "metadata": {
  "kernelspec": {
   "display_name": "Python 3",
   "language": "python",
   "name": "python3"
  },
  "language_info": {
   "codemirror_mode": {
    "name": "ipython",
    "version": 3
   },
   "file_extension": ".py",
   "mimetype": "text/x-python",
   "name": "python",
   "nbconvert_exporter": "python",
   "pygments_lexer": "ipython3",
   "version": "3.10.12"
  }
 },
 "nbformat": 4,
 "nbformat_minor": 2
}
