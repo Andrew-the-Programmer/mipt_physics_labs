{
 "cells": [
  {
   "cell_type": "code",
   "execution_count": null,
   "metadata": {},
   "outputs": [],
   "source": [
    "# imports\n",
    "\n",
    "import sympy as sp\n",
    "import scipy.constants as sc\n",
    "from typing import Any\n",
    "import logging\n",
    "import sys\n",
    "import pandas as pd\n",
    "import pathlib as pl\n",
    "import numpy as np\n",
    "import matplotlib.pyplot as plt\n",
    "from copy import copy\n",
    "import decimal\n",
    "\n",
    "# import ignore.my_labs\n",
    "from my_labs.vne import PQ, VNE, Unit\n",
    "from my_labs.my_numbers import fsdp\n",
    "from my_labs.calculate import calculate, converted, scaled, Substitute, negative\n",
    "from my_labs.my_pandas import GetData, GetDataXY, FrameSlice, SaveData\n",
    "from my_labs.my_plt import Plot, SetXY, find_trendline\n",
    "from my_labs.my_physics import constants, equations, materials"
   ]
  },
  {
   "cell_type": "code",
   "execution_count": null,
   "metadata": {},
   "outputs": [],
   "source": [
    "# logging configuration\n",
    "\n",
    "# logging.basicConfig(\n",
    "#     # stream=sys.stdout,\n",
    "#     filename=\"logging.txt\",\n",
    "#     level=logging.DEBUG,\n",
    "#     format=\"%(asctime)s %(levelname)s %(message)s\",\n",
    "#     datefmt=\"%Y-%m-%d %H:%M:%S\",\n",
    "# )"
   ]
  },
  {
   "cell_type": "code",
   "execution_count": null,
   "metadata": {},
   "outputs": [],
   "source": [
    "# other values\n",
    "data_dir = pl.Path.cwd() / \"data\"\n",
    "data_dir"
   ]
  }
 ],
 "metadata": {
  "kernelspec": {
   "display_name": "Python 3",
   "language": "python",
   "name": "python3"
  },
  "language_info": {
   "codemirror_mode": {
    "name": "ipython",
    "version": 3
   },
   "file_extension": ".py",
   "mimetype": "text/x-python",
   "name": "python",
   "nbconvert_exporter": "python",
   "pygments_lexer": "ipython3",
   "version": "3.10.12"
  }
 },
 "nbformat": 4,
 "nbformat_minor": 2
}
