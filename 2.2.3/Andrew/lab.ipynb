{
 "cells": [
  {
   "cell_type": "code",
   "execution_count": 1,
   "metadata": {},
   "outputs": [
    {
     "name": "stderr",
     "output_type": "stream",
     "text": [
      "/usr/lib/python3/dist-packages/scipy/__init__.py:146: UserWarning: A NumPy version >=1.17.3 and <1.25.0 is required for this version of SciPy (detected version 1.26.2\n",
      "  warnings.warn(f\"A NumPy version >={np_minversion} and <{np_maxversion}\"\n"
     ]
    }
   ],
   "source": [
    "# imports\n",
    "\n",
    "import sympy as sp\n",
    "import scipy.constants as sc\n",
    "from typing import Any\n",
    "import logging\n",
    "import sys\n",
    "import pandas as pd\n",
    "import pathlib as pl\n",
    "import numpy as np\n",
    "import matplotlib.pyplot as plt\n",
    "from copy import copy\n",
    "import decimal\n",
    "\n",
    "# import ignore.my_labs\n",
    "from my_labs.vne import PQ, VNE, Unit\n",
    "from my_labs.my_numbers import fsdp\n",
    "from my_labs.calculate import calculate, converted, scaled, Substitute, negative\n",
    "from my_labs.my_pandas import GetData, GetDataXY, FrameSlice, SaveData\n",
    "from my_labs.my_plt import Plot, SetXY, find_trendline\n",
    "from my_labs.my_physics import constants, equations, materials"
   ]
  },
  {
   "cell_type": "code",
   "execution_count": 2,
   "metadata": {},
   "outputs": [],
   "source": [
    "# logging configuration\n",
    "\n",
    "# logging.basicConfig(\n",
    "#     # stream=sys.stdout,\n",
    "#     filename=\"logging.txt\",\n",
    "#     level=logging.DEBUG,\n",
    "#     format=\"%(asctime)s %(levelname)s %(message)s\",\n",
    "#     datefmt=\"%Y-%m-%d %H:%M:%S\",\n",
    "# )"
   ]
  },
  {
   "cell_type": "code",
   "execution_count": 3,
   "metadata": {},
   "outputs": [
    {
     "data": {
      "text/plain": [
       "PosixPath('/home/andrew/MEGA/mipt/courses/labs/mipt_physics_labs/2.2.3/Andrew/data')"
      ]
     },
     "execution_count": 3,
     "metadata": {},
     "output_type": "execute_result"
    }
   ],
   "source": [
    "# other values\n",
    "data_dir = pl.Path.cwd() / \"data\"\n",
    "data_dir"
   ]
  },
  {
   "cell_type": "code",
   "execution_count": 4,
   "metadata": {},
   "outputs": [
    {
     "ename": "SyntaxError",
     "evalue": "invalid syntax (3921572564.py, line 1)",
     "output_type": "error",
     "traceback": [
      "\u001b[0;36m  Cell \u001b[0;32mIn[4], line 1\u001b[0;36m\u001b[0m\n\u001b[0;31m    x = FrameSlice(columns=)\u001b[0m\n\u001b[0m                           ^\u001b[0m\n\u001b[0;31mSyntaxError\u001b[0m\u001b[0;31m:\u001b[0m invalid syntax\n"
     ]
    }
   ],
   "source": [
    "x = FrameSlice(columns=slice())\n",
    "\n",
    "df = GetDataXY(x_frame_slice=)"
   ]
  }
 ],
 "metadata": {
  "kernelspec": {
   "display_name": "Python 3",
   "language": "python",
   "name": "python3"
  },
  "language_info": {
   "codemirror_mode": {
    "name": "ipython",
    "version": 3
   },
   "file_extension": ".py",
   "mimetype": "text/x-python",
   "name": "python",
   "nbconvert_exporter": "python",
   "pygments_lexer": "ipython3",
   "version": "3.10.12"
  }
 },
 "nbformat": 4,
 "nbformat_minor": 2
}
