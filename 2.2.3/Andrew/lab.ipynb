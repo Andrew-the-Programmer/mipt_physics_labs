{
 "cells": [
  {
   "cell_type": "code",
   "execution_count": 16,
   "metadata": {},
   "outputs": [],
   "source": [
    "# imports\n",
    "\n",
    "import sympy as sp\n",
    "import scipy.constants as sc\n",
    "from typing import Any\n",
    "import logging\n",
    "import sys\n",
    "import pandas as pd\n",
    "import pathlib as pl\n",
    "import numpy as np\n",
    "import matplotlib.pyplot as plt\n",
    "from copy import copy\n",
    "import decimal\n",
    "\n",
    "# import ignore.my_labs\n",
    "from my_labs.vne import PQ, VNE, Unit\n",
    "from my_labs.my_numbers import fsdp\n",
    "from my_labs.calculate import calculate, converted, scaled, Substitute, negative\n",
    "from my_labs.my_pandas import GetData, GetDataXY, FrameSlice, SaveData\n",
    "from my_labs.my_plt import Plot, SetXY, find_trendline, PlotDataSet\n",
    "from my_labs.my_physics import constants, equations, materials"
   ]
  },
  {
   "cell_type": "code",
   "execution_count": 17,
   "metadata": {},
   "outputs": [],
   "source": [
    "# logging configuration\n",
    "\n",
    "# logging.basicConfig(\n",
    "#     # stream=sys.stdout,\n",
    "#     filename=\"logging.txt\",\n",
    "#     level=logging.DEBUG,\n",
    "#     format=\"%(asctime)s %(levelname)s %(message)s\",\n",
    "#     datefmt=\"%Y-%m-%d %H:%M:%S\",\n",
    "# )"
   ]
  },
  {
   "cell_type": "code",
   "execution_count": 18,
   "metadata": {},
   "outputs": [
    {
     "data": {
      "text/plain": [
       "PosixPath('/home/andrew/MEGA/mipt/courses/labs/mipt_physics_labs/2.2.3/Andrew/data')"
      ]
     },
     "execution_count": 18,
     "metadata": {},
     "output_type": "execute_result"
    }
   ],
   "source": [
    "# other values\n",
    "data_dir = pl.Path.cwd() / \"data\"\n",
    "data_dir"
   ]
  },
  {
   "cell_type": "code",
   "execution_count": 19,
   "metadata": {},
   "outputs": [],
   "source": [
    "# spreadsheet\n",
    "data_file = data_dir / \"data.xlsx\"\n",
    "df = pd.read_excel(data_file, na_filter=True, header=None)"
   ]
  },
  {
   "cell_type": "code",
   "execution_count": 25,
   "metadata": {},
   "outputs": [
    {
     "data": {
      "text/plain": [
       "SetXY(x=PhysicalQuantityWithSymbol(value=[24.5, 35, 45, 55, 65], err=[0, 0, 0, 0, 0], unit=None, symbol=x), y=PhysicalQuantityWithSymbol(value=[151.4875, 152.85, 154.25, 155.6, 156.9375], err=[0, 0, 0, 0, 0], unit=None, symbol=y), title='<title>')"
      ]
     },
     "execution_count": 25,
     "metadata": {},
     "output_type": "execute_result"
    }
   ],
   "source": [
    "# data\n",
    "\n",
    "_err_T = 0.1  # sec\n",
    "_err_Rн = 0  # torr * 10^-5\n",
    "\n",
    "begin = 3\n",
    "step = 8\n",
    "\n",
    "rows = lambda i: slice(begin + step * i, begin + step * (i + 1))\n",
    "\n",
    "data_T = PQ([GetData(df, FrameSlice(rows=rows(i).start, columns=0)) for i in range(5)])\n",
    "data_R = PQ([GetData(df, FrameSlice(rows=rows(i).start, columns=6)) for i in range(5)])\n",
    "\n",
    "data_Q_R = [\n",
    "    GetDataXY(\n",
    "        df,\n",
    "        x_frame_slice=FrameSlice(columns=5, rows=rows(i)),\n",
    "        y_frame_slice=FrameSlice(columns=4, rows=rows(i)),\n",
    "        xerr_frame_slice=FrameSlice(columns=12, rows=rows(i)),\n",
    "        yerr_frame_slice=FrameSlice(columns=11, rows=rows(i)),\n",
    "        xkwargs={\"symbol\": \"R_н\", \"unit\": \"Ohm\"},\n",
    "        ykwargs={\"symbol\": \"Q\", \"unit\": \"mW\"},\n",
    "        kwargs={\"title\": T},\n",
    "    )\n",
    "    for i, T in enumerate(data_T)\n",
    "]\n",
    "\n",
    "data_R_T = SetXY(x=data_T, y=data_R, xsymbol=\"T\", ysymbol=\"R_н\")\n",
    "\n",
    "# for d in data:\n",
    "#     d.x.err = _err_t\n",
    "#     d.y.err = _err_P\n",
    "\n",
    "# data\n",
    "data_R_T"
   ]
  },
  {
   "cell_type": "code",
   "execution_count": null,
   "metadata": {},
   "outputs": [],
   "source": [
    "# plots\n",
    "\n",
    "# [Plot(d.as_numeric(), trendline_repr_config='') for d in data]"
   ]
  },
  {
   "cell_type": "code",
   "execution_count": null,
   "metadata": {},
   "outputs": [],
   "source": []
  },
  {
   "cell_type": "code",
   "execution_count": 28,
   "metadata": {},
   "outputs": [
    {
     "data": {
      "text/plain": [
       "[PhysicalQuantityWithSymbol(value=89.1986829727186, err=1.8529559984775588, unit=mW, symbol=None),\n",
       " PhysicalQuantityWithSymbol(value=88.53640350877198, err=2.3607591440089, unit=mW, symbol=None),\n",
       " PhysicalQuantityWithSymbol(value=91.82314814814762, err=2.8920541232653343, unit=mW, symbol=None),\n",
       " PhysicalQuantityWithSymbol(value=99.94456521739085, err=2.9403416051073443, unit=mW, symbol=None),\n",
       " PhysicalQuantityWithSymbol(value=93.29988193624555, err=3.1035389401152482, unit=mW, symbol=None)]"
      ]
     },
     "execution_count": 28,
     "metadata": {},
     "output_type": "execute_result"
    }
   ],
   "source": [
    "# slopes\n",
    "\n",
    "slopes = [find_trendline(d.as_numeric()).slope for d in data]\n",
    "\n",
    "slopeRT = find_trendline(data_R_T).slope\n",
    "\n",
    "slopeRT\n",
    "slopes"
   ]
  }
 ],
 "metadata": {
  "kernelspec": {
   "display_name": "Python 3",
   "language": "python",
   "name": "python3"
  },
  "language_info": {
   "codemirror_mode": {
    "name": "ipython",
    "version": 3
   },
   "file_extension": ".py",
   "mimetype": "text/x-python",
   "name": "python",
   "nbconvert_exporter": "python",
   "pygments_lexer": "ipython3",
   "version": "3.10.12"
  }
 },
 "nbformat": 4,
 "nbformat_minor": 2
}
